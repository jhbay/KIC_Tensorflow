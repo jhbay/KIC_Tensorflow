{
 "cells": [
  {
   "cell_type": "code",
   "execution_count": 6,
   "metadata": {},
   "outputs": [
    {
     "name": "stdout",
     "output_type": "stream",
     "text": [
      "Tensor(\"Add_2:0\", shape=(), dtype=int32)\n",
      "42\n"
     ]
    }
   ],
   "source": [
    "import tensorflow as tf\n",
    "\n",
    "#TF그래프 생성\n",
    "a = tf.constant(10)\n",
    "b = tf.constant(32)\n",
    "c = tf.add(a,b)\n",
    "print(c)\n",
    "\n",
    "#GPU 연산 및 자원활용.\n",
    "sess = tf.Session()\n",
    "d = sess.run(c)\n",
    "print(d)\n"
   ]
  },
  {
   "cell_type": "code",
   "execution_count": 7,
   "metadata": {},
   "outputs": [
    {
     "name": "stdout",
     "output_type": "stream",
     "text": [
      "Tensor(\"input_a_2:0\", shape=(), dtype=int32)\n",
      "Tensor(\"input_b_2:0\", shape=(), dtype=int32)\n",
      "Tensor(\"multi_c_2:0\", shape=(), dtype=int32)\n",
      "Tensor(\"add_d_2:0\", shape=(), dtype=int32)\n",
      "Tensor(\"add_e_2:0\", shape=(), dtype=int32)\n",
      "output =  23\n"
     ]
    }
   ],
   "source": [
    "a = tf.constant(5, name='input_a')\n",
    "b = tf.constant(3, name='input_b')\n",
    "c = tf.multiply(a,b , name='multi_c')\n",
    "d = tf.add(a,b,name='add_d')\n",
    "e = tf.add(c,d, name = 'add_e')\n",
    "\n",
    "sess = tf.Session()\n",
    "output = sess.run(e)\n",
    "\n",
    "print(a)\n",
    "print(b)\n",
    "print(c)\n",
    "print(d)\n",
    "print(e)\n",
    "print('output = ',output)\n"
   ]
  },
  {
   "cell_type": "code",
   "execution_count": 8,
   "metadata": {},
   "outputs": [
    {
     "name": "stdout",
     "output_type": "stream",
     "text": [
      "[  2.   4.   6.   8.  10.]\n"
     ]
    }
   ],
   "source": [
    "import tensorflow as tf\n",
    "input_data = [1,2,3,4,5]\n",
    "x = tf.placeholder(dtype = tf.float32)\n",
    "W = tf.Variable([2], dtype=tf.float32)\n",
    "y= W*x\n",
    "\n",
    "sess = tf.Session()\n",
    "\n",
    "## 에러가 뜬다.\n",
    "#“FailedPreconditionError: Attempting to use uninitialized value Variable\"\n",
    "# init을 안해줫기떄문.\n",
    "# result = sess.run(y, feed_dict = {x:input_data})\n",
    "\n",
    "init = tf.global_variables_initializer()\n",
    "sess.run(init)\n",
    "\n",
    "result = sess.run(y, feed_dict={x:input_data})\n",
    "\n",
    "print(result)\n",
    "\n",
    "\n"
   ]
  },
  {
   "cell_type": "code",
   "execution_count": 4,
   "metadata": {},
   "outputs": [],
   "source": [
    "# ------------- Linear Regression 구현 -------------\n",
    "\n",
    "\n",
    "\n",
    "\n",
    "\n"
   ]
  },
  {
   "cell_type": "code",
   "execution_count": null,
   "metadata": {},
   "outputs": [],
   "source": [
    "# --------- Mnist  학습\n",
    "\n",
    "# https://www.microsoft.com/en-us/download/confirmation.aspx?id=53587\n",
    "\n",
    "# C:\\python_DL\\google> python EX110_mnist_1.0_MSE_visu.py\n",
    "\n",
    "\n",
    "\n",
    "\n"
   ]
  },
  {
   "cell_type": "code",
   "execution_count": 5,
   "metadata": {},
   "outputs": [
    {
     "ename": "ModuleNotFoundError",
     "evalue": "No module named 'mnistdata'",
     "output_type": "error",
     "traceback": [
      "\u001b[1;31m---------------------------------------------------------------------------\u001b[0m",
      "\u001b[1;31mModuleNotFoundError\u001b[0m                       Traceback (most recent call last)",
      "\u001b[1;32m<ipython-input-5-65b46f6ee772>\u001b[0m in \u001b[0;36m<module>\u001b[1;34m\u001b[0m\n\u001b[0;32m      1\u001b[0m \u001b[1;32mimport\u001b[0m \u001b[0mtensorflow\u001b[0m \u001b[1;32mas\u001b[0m \u001b[0mtf\u001b[0m\u001b[1;33m\u001b[0m\u001b[0m\n\u001b[1;32m----> 2\u001b[1;33m \u001b[1;32mimport\u001b[0m \u001b[0mmnistdata\u001b[0m\u001b[1;33m\u001b[0m\u001b[0m\n\u001b[0m\u001b[0;32m      3\u001b[0m \u001b[0mmnist\u001b[0m \u001b[1;33m=\u001b[0m\u001b[0mmnistdata\u001b[0m\u001b[1;33m.\u001b[0m\u001b[0mread_data_sets\u001b[0m\u001b[1;33m(\u001b[0m\u001b[1;34m\"data\"\u001b[0m\u001b[1;33m,\u001b[0m \u001b[0mone_hot\u001b[0m\u001b[1;33m=\u001b[0m\u001b[1;32mTrue\u001b[0m\u001b[1;33m,\u001b[0m \u001b[0mreshape\u001b[0m \u001b[1;33m=\u001b[0m\u001b[1;32mFalse\u001b[0m \u001b[1;33m)\u001b[0m\u001b[1;33m\u001b[0m\u001b[0m\n\u001b[0;32m      4\u001b[0m \u001b[1;33m\u001b[0m\u001b[0m\n\u001b[0;32m      5\u001b[0m \u001b[1;33m\u001b[0m\u001b[0m\n",
      "\u001b[1;31mModuleNotFoundError\u001b[0m: No module named 'mnistdata'"
     ]
    }
   ],
   "source": [
    "import tensorflow as tf\n",
    "import mnistdata\n",
    "mnist =mnistdata.read_data_sets(\"data\", one_hot=True, reshape =False )\n",
    "\n",
    "# Y - 정답\n",
    "\n",
    "# Y_ - 예측값\n",
    "\n",
    "\n",
    "# ...# None 미지수의 파일개수\n",
    "# XX = reshape  # -1은 미지수의 파일개수\n",
    "\n",
    "# next_batch(100) # 60000개 중 sampleing data수.\n",
    "\n",
    "\n",
    "\n",
    "\n",
    "\n",
    "\n",
    "\n",
    "\n"
   ]
  }
 ],
 "metadata": {
  "kernelspec": {
   "display_name": "Python 3",
   "language": "python",
   "name": "python3"
  },
  "language_info": {
   "codemirror_mode": {
    "name": "ipython",
    "version": 3
   },
   "file_extension": ".py",
   "mimetype": "text/x-python",
   "name": "python",
   "nbconvert_exporter": "python",
   "pygments_lexer": "ipython3",
   "version": "3.6.4"
  }
 },
 "nbformat": 4,
 "nbformat_minor": 2
}
