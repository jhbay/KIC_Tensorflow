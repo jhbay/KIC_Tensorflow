{
 "cells": [
  {
   "cell_type": "code",
   "execution_count": 1,
   "metadata": {},
   "outputs": [
    {
     "name": "stdout",
     "output_type": "stream",
     "text": [
      "list ::  ['R', 'G', 'B', 1]\n",
      "R\n",
      "1\n",
      "length::4\n",
      "----------- list call test -----------\n",
      "1\n",
      "['G']\n"
     ]
    }
   ],
   "source": [
    "colors=['R','G','B', 1]\n",
    "print('list :: ', end =\" \");print(colors)\n",
    "print(colors[0])\n",
    "print(colors[3])\n",
    "print('length::' + str(len(colors)))\n",
    "print('----------- list call test -----------')\n",
    "print(colors[-1])\n",
    "print(colors[1:2])"
   ]
  },
  {
   "cell_type": "code",
   "execution_count": 2,
   "metadata": {},
   "outputs": [
    {
     "name": "stdout",
     "output_type": "stream",
     "text": [
      "tester jupyter\n"
     ]
    }
   ],
   "source": [
    "print('tester jupyter')"
   ]
  },
  {
   "cell_type": "code",
   "execution_count": 3,
   "metadata": {
    "scrolled": true
   },
   "outputs": [
    {
     "name": "stdout",
     "output_type": "stream",
     "text": [
      "replace element ::  [42, 10, 7]\n"
     ]
    }
   ],
   "source": [
    "t1 = [42, 10, 23]\n",
    "t1[2] = 7;\n",
    "print('replace element :: ', end = ' '); print(t1)\n"
   ]
  },
  {
   "cell_type": "code",
   "execution_count": 4,
   "metadata": {},
   "outputs": [
    {
     "name": "stdout",
     "output_type": "stream",
     "text": [
      "slicing p1 ans ::  [20, 30]\n",
      "slicing p2 ans ::  [10, 20, 30]\n",
      "slicing p3 ans ::  [30, 40]\n",
      "slicing p4 ans ::  [40, 50]\n"
     ]
    }
   ],
   "source": [
    "lst = [10,20,30,40,50]\n",
    "print('slicing p1 ans :: ', end = ' ');print(lst[1:3])\n",
    "print('slicing p2 ans :: ', end = ' ');print(lst[:3])\n",
    "print('slicing p3 ans :: ', end = ' ');print(lst[2:4])\n",
    "print('slicing p4 ans :: ', end = ' ');print(lst[-2:])"
   ]
  },
  {
   "cell_type": "code",
   "execution_count": 5,
   "metadata": {},
   "outputs": [
    {
     "name": "stdout",
     "output_type": "stream",
     "text": [
      "list add ::  ['R', 'G', 'B', 'O', 'BL', 'W']\n",
      "list forLoop call:: R\tG\tB\tO\tBL\tW\t\n",
      "append, extend ::  ['R', 'G', 'B', 'O', 'BL', 'W', 'P', 'A', 'S']\n",
      "insert ::  ['orange', 'R', 'G', 'B', 'O', 'BL', 'W', 'P', 'A', 'S']\n",
      "remove del::  ['G', 'B', 'O', 'BL', 'W', 'P', 'A', 'S']\n"
     ]
    }
   ],
   "source": [
    "color1 = ['R','G','B']\n",
    "color2 = ['O','BL','W']\n",
    "color3 = color1 + color2\n",
    "print('list add :: ', end = ' '); print(color3)\n",
    "\n",
    "print('list forLoop call::', end=' ')\n",
    "for each in color3:\n",
    "    print(each, end='\\t')\n",
    "print()\n",
    "\n",
    "# list element추가\n",
    "color3.append(\"P\")\n",
    "# extend는 list로 추가가아닌 list + list 개념.\n",
    "color3.extend([\"A\", \"S\"])\n",
    "print('append, extend :: ', end = ' ');print(color3)\n",
    "\n",
    "color3.insert(0, \"orange\")\n",
    "print('insert :: ', end = ' ');print(color3)\n",
    "\n",
    "color3.remove('orange') # value 삭제.\n",
    "del color3[0] # index 삭제\n",
    "print('remove del:: ', end = ' ');print(color3)\n",
    "\n",
    "\n"
   ]
  },
  {
   "cell_type": "code",
   "execution_count": 6,
   "metadata": {},
   "outputs": [
    {
     "name": "stdout",
     "output_type": "stream",
     "text": [
      "['color', 0, 1, 2, ['O', 'BL', 'W']]\n"
     ]
    }
   ],
   "source": [
    "#list 안에 list.\n",
    "list01 = [\"color\", 0, 1, 2]\n",
    "list02 = [\"R\",\"G\",\"B\"]\n",
    "list01.append(color2)\n",
    "print(list01)\n",
    "\n"
   ]
  },
  {
   "cell_type": "code",
   "execution_count": 7,
   "metadata": {},
   "outputs": [
    {
     "name": "stdout",
     "output_type": "stream",
     "text": [
      "2\n",
      "1\n",
      "[1, 2, 3, 5, 6]\n",
      "[6, 5, 3, 2, 1]\n",
      "========================== test 필요 END\n",
      "[1, 2, 3, 5, 6]\n",
      "0 6\n",
      "1 5\n",
      "2 3\n",
      "3 2\n",
      "4 1\n",
      "========================== 신기방기\n",
      "a,b,c,d,e ::  6 5 3 2 1\n"
     ]
    }
   ],
   "source": [
    "list01 = [5,6,1,2,3]\n",
    "\n",
    "print(list01.index(1))\n",
    "print(list01.count(5))\n",
    "\n",
    "list01.sort()\n",
    "print(list01)\n",
    "list01.reverse()\n",
    "print(list01)\n",
    "print(\"========================== test 필요 END\")\n",
    "\n",
    "b = sorted(list01)\n",
    "print(b)\n",
    "# numerate - index와 value 한번에 call.\n",
    "for idx,item in enumerate(list01):\n",
    "    print(idx,item)\n",
    "\n",
    "print(\"========================== 신기방기\")\n",
    "\n",
    "a,b,c,d,e = list01\n",
    "print(\"a,b,c,d,e :: \", a,b,c,d,e)\n",
    "    "
   ]
  },
  {
   "cell_type": "code",
   "execution_count": 8,
   "metadata": {},
   "outputs": [
    {
     "name": "stdout",
     "output_type": "stream",
     "text": [
      "student dict: {100: 'kim', 101: 'park', 102: 'lee', 103: 'bay'}\n",
      "dict add: {100: 'kim', 101: 'park', 102: 'lee', 103: 'bay', 104: 'Son'}\n",
      "dict fix: {100: 'Ji', 101: 'park', 102: 'lee', 103: 'bay', 104: 'Son'}\n"
     ]
    }
   ],
   "source": [
    "# dict\n",
    "student = {\n",
    "    100:'kim',\n",
    "    101:'park',\n",
    "    102:'lee',\n",
    "    103:'bay'\n",
    "}\n",
    "print('student dict:', end=' ');print(student)\n",
    "\n",
    "# dict add.\n",
    "student[104] = 'Son'\n",
    "print('dict add:', end=' ');print(student)\n",
    "# dict replace.\n",
    "student[100] = 'Ji'\n",
    "print('dict fix:', end=' ');print(student)\n",
    "\n"
   ]
  },
  {
   "cell_type": "code",
   "execution_count": 9,
   "metadata": {},
   "outputs": [
    {
     "name": "stdout",
     "output_type": "stream",
     "text": [
      "keys, vals in student =======\n",
      "100 Ji\n",
      "101 park\n",
      "102 lee\n",
      "103 bay\n",
      "104 Son\n",
      "keys in student =======\n",
      "100\n",
      "101\n",
      "102\n",
      "103\n",
      "104\n",
      "vals in student =======\n",
      "Ji\n",
      "park\n",
      "lee\n",
      "bay\n",
      "Son\n"
     ]
    }
   ],
   "source": [
    "#dict prof\n",
    "# student = {\n",
    "#     100:'kim',\n",
    "#     101:'park',\n",
    "#     102:'lee',\n",
    "#     103:'bay'\n",
    "# }\n",
    "\n",
    "print('keys, vals in student =======')\n",
    "for ke, val in student.items():\n",
    "    print(ke, val)\n",
    "    \n",
    "print('keys in student =======')\n",
    "for k in student.keys():\n",
    "    print(k)\n",
    "\n",
    "print('vals in student =======')\n",
    "for v in student.values():\n",
    "    print(v)\n",
    "\n",
    "\n"
   ]
  },
  {
   "cell_type": "code",
   "execution_count": 10,
   "metadata": {},
   "outputs": [
    {
     "name": "stdout",
     "output_type": "stream",
     "text": [
      "student del {101: 'park', 102: 'lee', 103: 'bay'}\n",
      "student[104] add: {101: 'park', 102: 'lee', 103: 'bay', 104: 'hong'}\n"
     ]
    }
   ],
   "source": [
    "# edit dict\n",
    "student = {\n",
    "    100:'kim',\n",
    "    101:'park',\n",
    "    102:'lee',\n",
    "    103:'bay'\n",
    "#     , 104: 'clear?'\n",
    "}\n",
    "del student[100] # index.\n",
    "print('student del', end=' ');print(student)\n",
    "\n",
    "# student.clear()\n",
    "# print('clear:', end=' ');print(student)\n",
    "\n",
    "# check dict\n",
    "if 104 in student:\n",
    "    print('student[104] already exist:', end=' '); \n",
    "else:\n",
    "    print('student[104] add:', end=' '); student[104] = 'hong'\n",
    "print(student)"
   ]
  },
  {
   "cell_type": "code",
   "execution_count": 11,
   "metadata": {},
   "outputs": [
    {
     "name": "stdout",
     "output_type": "stream",
     "text": [
      "(1, 2, 3, 5, 4, 2, 1, 2, 3, 5, 4, 2)\n",
      "==\n",
      "(1, 2, 3, 5, 4, 2, 1, 2, 3, 5, 4, 2)\n",
      "(1, 2, 3, 5, 4, 2)\n",
      "len:6\n",
      "1 5\n",
      "(1, 2)\n"
     ]
    }
   ],
   "source": [
    "# Tuple, 읽기전용. 속도는 최강. \n",
    "t = (1,2,3,5,4,2)\n",
    "print(t + t)\n",
    "print(\"==\")\n",
    "print(t * 2)\n",
    "\n",
    "# t[1] = 5\n",
    "print(t)\n",
    "print('len:' + str(len(t)))\n",
    "\n",
    "# 제공메소드: count, index, len, min, max\n",
    "print(min(t), max(t))\n",
    "print(t[0:2])\n",
    "# t.append(33)  # AttributeError: 'tuple' object has no attribute 'append'\n",
    "# t[1] = 5 # AttributeError: 'tuple' object has no attribute 'append'\n"
   ]
  },
  {
   "cell_type": "code",
   "execution_count": 12,
   "metadata": {},
   "outputs": [
    {
     "name": "stdout",
     "output_type": "stream",
     "text": [
      "f: 42 s: 10 t: 23\n"
     ]
    }
   ],
   "source": [
    "my_tuple = (42, 10, 23)\n",
    "f,s,t = my_tuple\n",
    "print('f:', f, 's:', s, 't:', t, sep = ' ')\n"
   ]
  },
  {
   "cell_type": "code",
   "execution_count": 13,
   "metadata": {},
   "outputs": [
    {
     "name": "stdout",
     "output_type": "stream",
     "text": [
      "============================================================\n",
      "=============== Numpy Beginner ===============\n",
      "============================================================\n"
     ]
    }
   ],
   "source": [
    "print(\"=\"*60)\n",
    "print(\"=\"*15 + \" Numpy Beginner \" + \"=\"*15)\n",
    "print(\"=\"*60)\n"
   ]
  },
  {
   "cell_type": "code",
   "execution_count": 14,
   "metadata": {},
   "outputs": [
    {
     "name": "stdout",
     "output_type": "stream",
     "text": [
      "[1 2 3]\n",
      "<class 'numpy.ndarray'>\n"
     ]
    }
   ],
   "source": [
    "import numpy as np\n",
    "x = np.array([1,2,3])\n",
    "print(x)\n",
    "print(type(x))"
   ]
  },
  {
   "cell_type": "code",
   "execution_count": 15,
   "metadata": {},
   "outputs": [
    {
     "name": "stdout",
     "output_type": "stream",
     "text": [
      "x+y: [7 7 7]\n",
      "x-y: [-5 -3 -1]\n",
      "y-x: [5 3 1]\n",
      "x*y: [ 6 10 12]\n",
      "x/y: [ 0.16666667  0.4         0.75      ]\n",
      "np.ndim(x)::  1\n",
      "x.shape:: (3,)\n"
     ]
    }
   ],
   "source": [
    "x = np.array([1,2,3])\n",
    "y = np.array([6,5,4])\n",
    "\n",
    "print('x+y:', x+y)\n",
    "print('x-y:', x-y)\n",
    "print('y-x:', y-x)\n",
    "print('x*y:', x*y)\n",
    "print('x/y:', x/y)\n",
    "\n",
    "# np methods use.\n",
    "print('np.ndim(x):: ',np.ndim(x))\n",
    "\n",
    "print('x.shape::', x.shape) # (3,) - 1차원벡터 3개 element존재.\n"
   ]
  },
  {
   "cell_type": "code",
   "execution_count": 16,
   "metadata": {},
   "outputs": [
    {
     "name": "stdout",
     "output_type": "stream",
     "text": [
      "[[1 2 3]\n",
      " [6 5 4]]\n",
      "npA.shape:: (2, 3)\n",
      "npA.dtype:: int32\n"
     ]
    }
   ],
   "source": [
    "# np intermediate\n",
    "npA = np.array([[1,2,3],[6,5,4]]) # [] 안에  [], [] ->>  2차원 표현.\n",
    "print(npA)\n",
    "print('npA.shape::', npA.shape)\n",
    "print('npA.dtype::', npA.dtype)\n"
   ]
  },
  {
   "cell_type": "code",
   "execution_count": 17,
   "metadata": {},
   "outputs": [
    {
     "name": "stdout",
     "output_type": "stream",
     "text": [
      "mat1+mat2 :: \n",
      " [[3 2]\n",
      " [3 6]]\n",
      "mat1*mat2 :: \n",
      " [[2 0]\n",
      " [0 8]]\n",
      "np.matmul(mat1,mat2) :: \n",
      " [[2 4]\n",
      " [6 8]]\n"
     ]
    }
   ],
   "source": [
    "# np matrix\n",
    "mat1 = np.array([[1,2],[3,4]])\n",
    "mat2 = np.array([[2,0],[0,2]])\n",
    "\n",
    "print('mat1+mat2 :: \\n',mat1+mat2)\n",
    "print('mat1*mat2 :: \\n',mat1*mat2)\n",
    "print('np.matmul(mat1,mat2) :: \\n',np.matmul(mat1,mat2))\n"
   ]
  },
  {
   "cell_type": "code",
   "execution_count": 21,
   "metadata": {},
   "outputs": [
    {
     "name": "stdout",
     "output_type": "stream",
     "text": [
      "======= 브로드캐스트 상수 ======\n"
     ]
    },
    {
     "ename": "NameError",
     "evalue": "name 'mat3' is not defined",
     "output_type": "error",
     "traceback": [
      "\u001b[1;31m---------------------------------------------------------------------------\u001b[0m",
      "\u001b[1;31mNameError\u001b[0m                                 Traceback (most recent call last)",
      "\u001b[1;32m<ipython-input-21-0073ee9910f8>\u001b[0m in \u001b[0;36m<module>\u001b[1;34m\u001b[0m\n\u001b[0;32m      3\u001b[0m \u001b[0mmat1\u001b[0m \u001b[1;33m=\u001b[0m \u001b[0mnp\u001b[0m\u001b[1;33m.\u001b[0m\u001b[0marray\u001b[0m\u001b[1;33m(\u001b[0m\u001b[1;33m[\u001b[0m\u001b[1;33m[\u001b[0m\u001b[1;36m1\u001b[0m\u001b[1;33m,\u001b[0m\u001b[1;36m2\u001b[0m\u001b[1;33m]\u001b[0m\u001b[1;33m,\u001b[0m\u001b[1;33m[\u001b[0m\u001b[1;36m3\u001b[0m\u001b[1;33m,\u001b[0m\u001b[1;36m4\u001b[0m\u001b[1;33m]\u001b[0m\u001b[1;33m]\u001b[0m\u001b[1;33m)\u001b[0m\u001b[1;33m\u001b[0m\u001b[0m\n\u001b[0;32m      4\u001b[0m \u001b[0mbroadCast1\u001b[0m \u001b[1;33m=\u001b[0m \u001b[0mnp\u001b[0m\u001b[1;33m.\u001b[0m\u001b[0marray\u001b[0m\u001b[1;33m(\u001b[0m\u001b[1;33m[\u001b[0m\u001b[1;36m10\u001b[0m\u001b[1;33m]\u001b[0m\u001b[1;33m)\u001b[0m\u001b[1;33m\u001b[0m\u001b[0m\n\u001b[1;32m----> 5\u001b[1;33m \u001b[0mmat2\u001b[0m \u001b[1;33m=\u001b[0m \u001b[0mmat3\u001b[0m \u001b[1;33m*\u001b[0m \u001b[0mbroadCast1\u001b[0m\u001b[1;33m\u001b[0m\u001b[0m\n\u001b[0m\u001b[0;32m      6\u001b[0m \u001b[0mprint\u001b[0m\u001b[1;33m(\u001b[0m\u001b[0mmat2\u001b[0m\u001b[1;33m)\u001b[0m\u001b[1;33m\u001b[0m\u001b[0m\n\u001b[0;32m      7\u001b[0m \u001b[1;33m\u001b[0m\u001b[0m\n",
      "\u001b[1;31mNameError\u001b[0m: name 'mat3' is not defined"
     ]
    }
   ],
   "source": [
    "#브로드캐스팅\n",
    "print('======= 브로드캐스트 상수 ======')\n",
    "mat1 = np.array([[1,2],[3,4]])\n",
    "broadCast1 = np.array([10])\n",
    "mat2 = mat1 * broadCast1\n",
    "print(mat2)\n",
    "\n",
    "# 각 열에 영향.\n",
    "print('======= 브로드캐스트 상수arr ======')\n",
    "mat3 = np.array([[1,2],[3,4]])\n",
    "broadCast2 = np.array([10,20])\n",
    "mat4 = mat3 * broadCast2\n",
    "print(mat4)"
   ]
  },
  {
   "cell_type": "code",
   "execution_count": null,
   "metadata": {},
   "outputs": [],
   "source": [
    "npA = np.array([[51,55],[14,19],[0,4]])\n",
    "npA = npA.flatten()\n",
    "print(npA)\n",
    "\n",
    "print('index 0,2,4 of npA : ', npA[np.array([0,2,4])])\n",
    "\n",
    "print('npA 값 >15 조건 : ',npA[npA > 15])\n"
   ]
  },
  {
   "cell_type": "code",
   "execution_count": null,
   "metadata": {},
   "outputs": [],
   "source": [
    "print(\"=\"*60)\n",
    "print(\"=\"*15 + \" matplotlib\" + \"=\"*15)\n",
    "print(\"=\"*60)"
   ]
  },
  {
   "cell_type": "code",
   "execution_count": null,
   "metadata": {},
   "outputs": [],
   "source": [
    "import numpy as np\n",
    "import matplotlib.pyplot as plt\n",
    "\n",
    "x = np.arange(0,6,0.1)\n",
    "y = np.sin(x)\n",
    "\n",
    "plt.plot(x,y) ## 보여주긴하는데 jupyter 메모리 속성인듯.\n",
    "plt.show()"
   ]
  },
  {
   "cell_type": "code",
   "execution_count": null,
   "metadata": {},
   "outputs": [],
   "source": []
  },
  {
   "cell_type": "code",
   "execution_count": null,
   "metadata": {},
   "outputs": [],
   "source": []
  },
  {
   "cell_type": "code",
   "execution_count": null,
   "metadata": {},
   "outputs": [],
   "source": [
    "#pyplot 기능\n",
    "# x = np.arange(0, 8, 0.1)\n",
    "x = np.arange(0, 6, 0.1)\n",
    "# y1 = np.sin(x)\n",
    "# y2 = np.cos(x)\n",
    "\n",
    "y1 = np.sin(x )\n",
    "y2 = np.cos(x )\n",
    "\n",
    "#그리기\n",
    "\n",
    "plt.plot(x, y1, label = 'sin')\n",
    "plt.plot(x, y2, linestyle = \"--\", label = \"cos\")\n",
    "plt.xlabel('x')\n",
    "plt.ylabel('y')\n",
    "plt.title('sin & cos')\n",
    "plt.legend()\n",
    "plt.show()\n",
    "\n",
    "\n",
    "\n",
    "\n"
   ]
  },
  {
   "cell_type": "code",
   "execution_count": null,
   "metadata": {},
   "outputs": [],
   "source": [
    "# 이미지 표시하기\n",
    "import matplotlib.pyplot as plt\n",
    "from matplotlib.image import imread\n",
    "img = imread('./image/lena.png')\n",
    "print(img) # pixel 단위 무언가의 표현...?\n",
    "plt.imshow(img)\n",
    "plt.show()\n",
    "\n",
    "\n"
   ]
  },
  {
   "cell_type": "code",
   "execution_count": null,
   "metadata": {},
   "outputs": [],
   "source": [
    "# 실제 이미지 파일읽기 대세.\n",
    "import cv2\n",
    "img_color = cv2.imread('./image/image_black.png')\n",
    "print(img_color)\n",
    "\n",
    "# 해당 픽셀의 rbg를 보여준다.\n",
    "# 해상도가 높을수록. 시간이 오래걸림을 확인가능.\n"
   ]
  },
  {
   "cell_type": "code",
   "execution_count": null,
   "metadata": {},
   "outputs": [],
   "source": [
    "# lena 이미지 재도전\n",
    "img_lena = cv2.imread('./image/lena.png', cv2.IMREAD_COLOR)\n",
    "print(img_lena)\n",
    "cv2.imshow('Original', img_lena)\n",
    "\n",
    "# popup으로 나타남.\n",
    "cv2.waitKey(0)\n",
    "cv2.destroyAllWindows() \n"
   ]
  },
  {
   "cell_type": "code",
   "execution_count": null,
   "metadata": {},
   "outputs": [],
   "source": [
    "print('GOOOOOOOOOOOOD')"
   ]
  },
  {
   "cell_type": "code",
   "execution_count": null,
   "metadata": {},
   "outputs": [],
   "source": []
  },
  {
   "cell_type": "code",
   "execution_count": null,
   "metadata": {},
   "outputs": [],
   "source": []
  },
  {
   "cell_type": "code",
   "execution_count": null,
   "metadata": {},
   "outputs": [],
   "source": []
  },
  {
   "cell_type": "code",
   "execution_count": null,
   "metadata": {},
   "outputs": [],
   "source": []
  },
  {
   "cell_type": "code",
   "execution_count": null,
   "metadata": {},
   "outputs": [],
   "source": []
  },
  {
   "cell_type": "code",
   "execution_count": null,
   "metadata": {},
   "outputs": [],
   "source": []
  }
 ],
 "metadata": {
  "kernelspec": {
   "display_name": "Python 3",
   "language": "python",
   "name": "python3"
  },
  "language_info": {
   "codemirror_mode": {
    "name": "ipython",
    "version": 3
   },
   "file_extension": ".py",
   "mimetype": "text/x-python",
   "name": "python",
   "nbconvert_exporter": "python",
   "pygments_lexer": "ipython3",
   "version": "3.6.4"
  }
 },
 "nbformat": 4,
 "nbformat_minor": 2
}
